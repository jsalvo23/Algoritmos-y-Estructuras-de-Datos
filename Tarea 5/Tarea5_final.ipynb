{
 "cells": [
  {
   "cell_type": "markdown",
   "metadata": {
    "colab_type": "text",
    "id": "qR6cOXGX_I6Y"
   },
   "source": [
    "# CC3001 Otoño 2020 Tarea 5\n",
    "# Simulación con Colas y Colas de Prioridad\n",
    "\n",
    "Profesores: Sección 1 Patricio Poblete / Sección 2 Nelson Baloian\n",
    "\n",
    "Plazo: Miércoles 24 de junio de 2020 a las 23:59\n",
    "\n",
    "## Jorge Salvo Marín"
   ]
  },
  {
   "cell_type": "markdown",
   "metadata": {
    "colab_type": "text",
    "id": "cEaguEDP_I6h"
   },
   "source": [
    "El objetivo de esta tarea es aprender a escribir programas de simulación sencillos, haciendo uso de colas y de colas de prioridad.\n",
    "\n",
    "En primer lugar, consideremos una caja a la que van llegando clientes en instantes aleatorios, separados por intervalos de tamaño promedio $t_a$. Cada cliente que llega se pone al final de la cola, espera su turno, y cuando llega a la cabeza de la cola lo empiezan a atender. La atención dura también un tiempo aleatorio de tamaño promedio $t_s$. Cuando completa su atención, sale del sistema, y en la caja se empieza a atender al siguiente cliente de la cola, en caso de que haya alguien.\n",
    "\n",
    "![colaT5](https://github.com/ppoblete/Tareas-CC3001-2020-1/blob/master/colaT5.png?raw=1)\n",
    "\n",
    "Los tiempos entre llegadas y el tiempo de atención se modelan con distribuciones exponenciales, lo cual es la suposición usual en este tipo de simulaciones.\n",
    "\n",
    "A continuación se ve el programa que simula este proceso para un número dado de clientes y calcula el largo promedio de la cola y la demora total promedio de los clientes, programa el cual fue entregado por los docentes."
   ]
  },
  {
   "cell_type": "code",
   "execution_count": 3,
   "metadata": {
    "colab": {},
    "colab_type": "code",
    "id": "pQdaEcML_I6i"
   },
   "outputs": [],
   "source": [
    "import numpy as np\n",
    "class Cola:\n",
    "    def __init__(self):\n",
    "        self.q=[]\n",
    "    def enq(self,x):\n",
    "        self.q.insert(0,x)\n",
    "    def deq(self):\n",
    "        assert len(self.q)>0\n",
    "        return self.q.pop()\n",
    "    def is_empty(self):\n",
    "        return len(self.q)==0\n",
    "    def size(self):\n",
    "        return len(self.q)\n",
    "\n",
    "def print_list(L):\n",
    "    for x in L:\n",
    "        print(x)\n",
    "\n",
    "def simula(maxclientes,ta,ts,debug=False):\n",
    "    # simula el paso de maxclientes clientes por el sistema,\n",
    "    # ta = tiempo promedio entre llegadas (arrivals)\n",
    "    # ts = tiempo promedio de servicio\n",
    "    # maxclientes = número maximo de clientes para la simulacion\n",
    "    # debug = True => genera bitácora y usa secuencia aleatoria reproducible\n",
    "    # retorna (largo promedio de la cola, tiempo promedio en el sistema)\n",
    "\n",
    "    if debug:\n",
    "        np.random.seed(1234)\n",
    "    ahora=0 # tiempo simulado\n",
    "    nclientes=0 # número de clientes que han llegado\n",
    "    c=Cola()\n",
    "    evento_llegada=np.random.exponential(ta)\n",
    "    evento_salida=None\n",
    "    acum_largo_cola=0 # acumula largo de la cola para sacar promedio al final\n",
    "    acum_tiempo_en_sistema=0 # acumula tiempos en el sistema para sacar promedio al final\n",
    "    bitacora=[] # En caso que se pida debug\n",
    "    \n",
    "    while evento_llegada is not None or evento_salida is not None:\n",
    "        # Ver si el próximo evento que toca que ocurra es la llegada o la salida de un cliente\n",
    "        if (evento_salida is None) or (evento_llegada is not None and (evento_llegada<=evento_salida)):\n",
    "            # Llega un cliente, avanzamos el tiempo simulado a la hora en que llega\n",
    "            ahora=evento_llegada\n",
    "            nclientes+=1\n",
    "            \n",
    "            if debug:\n",
    "                bitacora.append(\"T=\"+str(ahora)+\n",
    "                                \" evento_llegada=\"+str(evento_llegada)+\" evento_salida=\"+str(evento_salida)+\n",
    "                                \" => LLEGADA\"+\n",
    "                                \"\\n\\tcola=\"+str(c.q))\n",
    "            # El cliente que acaba de llegar se pone a la cola\n",
    "            c.enq(ahora) # Basta anotar su hora de llegada\n",
    "            acum_largo_cola+=c.size()\n",
    "            \n",
    "            if c.size()==1: # la cola estaba vacía, lo empezamos a atender de inmediato\n",
    "                evento_salida=ahora+np.random.exponential(ts) # programamos su hora de salida\n",
    "            \n",
    "            if nclientes<maxclientes: # programamos la hora de llegada del siguiente cliente\n",
    "                evento_llegada=ahora+np.random.exponential(ta)\n",
    "            else:\n",
    "                evento_llegada=None\n",
    "        else:               \n",
    "            # Termina de atenderse un cliente, avanzamos el tiempo simulado a la hora en que sale\n",
    "            ahora=evento_salida\n",
    "            if debug:\n",
    "                bitacora.append(\"T=\"+str(ahora)+\n",
    "                                \" evento_llegada=\"+str(evento_llegada)+\" evento_salida=\"+str(evento_salida)+\n",
    "                                \" => SALIDA\"+\n",
    "                                \"\\n\\tcola=\"+str(c.q))\n",
    "            tllegada=c.deq() # sacamos al cliente de la cola\n",
    "            acum_tiempo_en_sistema+=(ahora-tllegada)\n",
    "            \n",
    "            if c.is_empty(): # no hay nadie en la cola\n",
    "                evento_salida=None\n",
    "            else: # Hay un cliente esperando, empezamos a atenderlo\n",
    "                evento_salida=ahora+np.random.exponential(ts) # programamos su hora de salida\n",
    "    \n",
    "    return (acum_largo_cola/maxclientes,acum_tiempo_en_sistema/maxclientes,bitacora)"
   ]
  },
  {
   "cell_type": "code",
   "execution_count": 4,
   "metadata": {
    "colab": {},
    "colab_type": "code",
    "id": "xV5bLtjo_I6p",
    "outputId": "78f8a059-5e44-438b-9b1d-ea84257d8bea"
   },
   "outputs": [
    {
     "name": "stdout",
     "output_type": "stream",
     "text": [
      "Largo promedio de la cola= 1.9  Tiempo promedio en el sistema= 138.02762271192722\n"
     ]
    }
   ],
   "source": [
    "(cola,demora,bitacora)=simula(10,100,75,debug=True)\n",
    "print(\"Largo promedio de la cola=\",cola,\" Tiempo promedio en el sistema=\",demora)"
   ]
  },
  {
   "cell_type": "code",
   "execution_count": 5,
   "metadata": {
    "colab": {},
    "colab_type": "code",
    "id": "qdfsh7AM_I6v",
    "outputId": "dd122db9-b5cf-49bb-b171-2f2d398c57d8"
   },
   "outputs": [
    {
     "name": "stdout",
     "output_type": "stream",
     "text": [
      "T=21.25986576184801 evento_llegada=21.25986576184801 evento_salida=None => LLEGADA\n",
      "\tcola=[]\n",
      "T=78.83677538497456 evento_llegada=78.83677538497456 evento_salida=94.24603167524747 => LLEGADA\n",
      "\tcola=[21.25986576184801]\n",
      "T=94.24603167524747 evento_llegada=232.71542283099382 evento_salida=94.24603167524747 => SALIDA\n",
      "\tcola=[78.83677538497456, 21.25986576184801]\n",
      "T=207.7973648436669 evento_llegada=232.71542283099382 evento_salida=207.7973648436669 => SALIDA\n",
      "\tcola=[78.83677538497456]\n",
      "T=232.71542283099382 evento_llegada=232.71542283099382 evento_salida=None => LLEGADA\n",
      "\tcola=[]\n",
      "T=256.5855663702635 evento_llegada=265.07595569718336 evento_salida=256.5855663702635 => SALIDA\n",
      "\tcola=[232.71542283099382]\n",
      "T=265.07595569718336 evento_llegada=265.07595569718336 evento_salida=None => LLEGADA\n",
      "\tcola=[]\n",
      "T=386.489172340086 evento_llegada=582.4168679105603 evento_salida=386.489172340086 => SALIDA\n",
      "\tcola=[265.07595569718336]\n",
      "T=582.4168679105603 evento_llegada=582.4168679105603 evento_salida=None => LLEGADA\n",
      "\tcola=[]\n",
      "T=626.7051068662289 evento_llegada=626.7051068662289 evento_salida=738.9366623619304 => LLEGADA\n",
      "\tcola=[582.4168679105603]\n",
      "T=696.2190483450556 evento_llegada=696.2190483450556 evento_salida=738.9366623619304 => LLEGADA\n",
      "\tcola=[626.7051068662289, 582.4168679105603]\n",
      "T=738.9366623619304 evento_llegada=811.2505419244258 evento_salida=738.9366623619304 => SALIDA\n",
      "\tcola=[696.2190483450556, 626.7051068662289, 582.4168679105603]\n",
      "T=811.2505419244258 evento_llegada=811.2505419244258 evento_salida=832.4793149848136 => LLEGADA\n",
      "\tcola=[696.2190483450556, 626.7051068662289]\n",
      "T=832.4793149848136 evento_llegada=857.4938981550002 evento_salida=832.4793149848136 => SALIDA\n",
      "\tcola=[811.2505419244258, 696.2190483450556, 626.7051068662289]\n",
      "T=857.4938981550002 evento_llegada=857.4938981550002 evento_salida=894.2570294009206 => LLEGADA\n",
      "\tcola=[811.2505419244258, 696.2190483450556]\n",
      "T=894.2570294009206 evento_llegada=927.427158306087 evento_salida=894.2570294009206 => SALIDA\n",
      "\tcola=[857.4938981550002, 811.2505419244258, 696.2190483450556]\n",
      "T=895.296837936396 evento_llegada=927.427158306087 evento_salida=895.296837936396 => SALIDA\n",
      "\tcola=[857.4938981550002, 811.2505419244258]\n",
      "T=927.427158306087 evento_llegada=927.427158306087 evento_salida=1006.4499708056504 => LLEGADA\n",
      "\tcola=[857.4938981550002]\n",
      "T=1006.4499708056504 evento_llegada=None evento_salida=1006.4499708056504 => SALIDA\n",
      "\tcola=[927.427158306087, 857.4938981550002]\n",
      "T=1167.1389175826548 evento_llegada=None evento_salida=1167.1389175826548 => SALIDA\n",
      "\tcola=[927.427158306087]\n"
     ]
    }
   ],
   "source": [
    "print_list(bitacora)"
   ]
  },
  {
   "cell_type": "markdown",
   "metadata": {
    "colab_type": "text",
    "id": "4RX6EIbo_I6y"
   },
   "source": [
    "## Mejora"
   ]
  },
  {
   "cell_type": "markdown",
   "metadata": {
    "colab_type": "text",
    "id": "7PVZ1Smo_I6z"
   },
   "source": [
    "### 1. Introducir cola de prioridad\n",
    "\n",
    "El programa está escrito sabiendo que puede haber dos tipos de eventos por ocurrir (LLEGADA y SALIDA) y que en todo momento puede haber a lo más solo uno de cada tipo.\n",
    "\n",
    "En una situación más general, podría haber eventos de muchos tipos programados para ocurrir, en muchos instantes distintos. En ese caso, la implementación presentada es demasiado limitada, y se requiere un mecanismo más general para administrar esa lista de eventos futuros. Una *cola de prioridad* (usando el tiempo como prioridad, y en que el mínimo tiempo equivale a mejor prioridad) es la estructura adecuada, porque en esa lista de eventos futuros siempre vamos extrayendo el primero que debe ocurrir (el mínimo), y durante la ejecución se pueden generar nuevos elementos programados para ocurrir en el futuro (inserciones).\n",
    "\n",
    "En preparación a poder simular modelos más complejos, lo que usted tiene que hacer es implementar una lista de eventos futuros mediante uan cola de prioridad, en la cual se almacenen pares de la forma\n",
    "\n",
    "$$\n",
    "(\\text{tiempo},\\text{tipo de evento})\n",
    "$$\n",
    "\n",
    "y modificar el programa para que utilice esa cola de prioridad en lugar de las variables ``evento_salida`` y ``evento_llegada``. Implemente la cola de prioridad en base al código para heaps que aparece en el apunte."
   ]
  },
  {
   "cell_type": "markdown",
   "metadata": {},
   "source": [
    "El código que usaremos será el del Heap,, que se puede encontrar en cátedra, pero con una pequeña modificación, el Heap de cátdra recibe valores int, pero el que se necesita es uno qe reciba un objeto, con un cierto evento (entrada o salida) y el tiempo aleatorio que se genera para dicho evento. A esta clase objeto la definiremos coo Persona, la cual contiene el tiempo con self.time y el tipo de evento con self.eve.\n",
    "\n",
    "Si bien no se cambiará para que la mejor prioridad sea el menor tiempo, se agregará la función de extraer el mínimo valor de Heap."
   ]
  },
  {
   "cell_type": "code",
   "execution_count": 14,
   "metadata": {},
   "outputs": [],
   "source": [
    "import numpy as np\n",
    "def print_list(L):\n",
    "    for x in L:\n",
    "        print(x)\n",
    "\n",
    "class Persona:\n",
    "    def __init__(self, time, eve):\n",
    "        self.time=time\n",
    "        self.eve=eve\n",
    "\n",
    "\n",
    "def trepar(a,j): # El elemento a[j] trepa hasta su nivel de prioridad \n",
    "    while j>=1 and a[j].time > a[(j-1)//2].time:\n",
    "        (a[j], a[(j-1)//2]) = (a[(j-1)//2], a[j]) # intercambiamos con el padre\n",
    "        j=(j-1)//2 # subimos al lugar del padre\n",
    "\n",
    "def hundir(a,j,n): # El elemento a[j] se hunde hasta su nivel de prioridad\n",
    "    while 2*j+1<n: # mientras tenga al menos 1 hijo\n",
    "        k=2*j+1 # el hijo izquierdo\n",
    "        if k+1<n and a[k+1].time > a[k].time: # el hijo derecho existe y es mayor\n",
    "            k+=1\n",
    "        if a[j].time >= a[k].time: # tiene mejor prioridad que ambos hijos\n",
    "            break\n",
    "        (a[j],a[k])=(a[k],a[j]) # se intercambia con el mayor de los hijos\n",
    "        j=k # bajamos al lugar del mayor de los hijos\n",
    "\n",
    "class Heap:\n",
    "    def __init__(self,maxn=100):\n",
    "        self.a=np.zeros(maxn,dtype='object')\n",
    "        self.n=0\n",
    "    def insert(self,x):\n",
    "        assert self.n<len(self.a)\n",
    "        self.a[self.n]=x    \n",
    "        trepar(self.a,self.n)\n",
    "        self.n+=1       \n",
    "    def extract_max(self):\n",
    "        x=self.a[0] # esta variable lleva el máximo, el casillero 0 queda vacante\n",
    "        self.n-=1   # achicamos el heap\n",
    "        self.a[0]=self.a[self.n] # movemos el elemento sobrante hacia el casillero vacante\n",
    "        hundir(self.a,0,self.n)\n",
    "        return x\n",
    "    def extract_min(self):\n",
    "        self.n -=1\n",
    "    def mostrar_ult(self):\n",
    "        ult = self.a[self.n-1]\n",
    "        return ult\n",
    "\n",
    "\n",
    "def simula(maxclientes,ta,ts,debug=False):\n",
    "    # ta = tiempo promedio entre llegadas (arrivals)\n",
    "    # ts = tiempo promedio de servicio\n",
    "    # maxclientes = número maximo de clientes para la simulacion\n",
    "    # debug = True => genera bitácora y usa secuencia aleatoria reproducible\n",
    "    # retorna (largo promedio de la cola, tiempo promedio en el sistema)\n",
    "    if debug:\n",
    "        np.random.seed(1234)\n",
    "    h=Heap()        # Creamos el Heap, originalmente vacío\n",
    "    p = Persona(np.random.exponential(ta), 'entrada')  #Asignamos un objeto con un tiempo de entrada    \n",
    "    h.insert(p)     # insertamos el objeto en el heap como el primero que entra\n",
    "    nclientes = 1   # número de clientes que han llegado\n",
    "    ahora = p.time  # tiempo simulado, empieza cuando llega la primera persona\n",
    "    largo_cola = 1  # largo actual de la cola\n",
    "    acum_largo_cola = 1      # acumula largo de la cola para sacar promedio al final\n",
    "    acum_tiempo_en_sistema=0 # acumula tiempos en el sistema para sacar promedio al final\n",
    "    bitacora=[]              # En caso que se pida debug\n",
    "    if debug:\n",
    "        bitacora.append(\"T=\"+ str(ahora) + \" => LLEGADA, \" + 'Largo de cola=' + str(largo_cola))\n",
    "    \n",
    "    while largo_cola > 0:        # mientras hayan persona en la cola\n",
    "        ult = h.mostrar_ult()    \n",
    "        while type(ult) != int and ult.eve == 'salida':  # agregamos que el ultimo sea distinto de int ya que\n",
    "                                                         # tiraba error cuano quedaba el heap vacío\n",
    "            h.extract_min()\n",
    "            largo_cola -= 1 \n",
    "            if debug:\n",
    "                bitacora.append(\"T=\"+ str(ult.time) + \" => SALIDA, \" + 'Largo de cola=' + str(largo_cola))\n",
    "            ult = h.mostrar_ult()\n",
    "        if type(ult) != int and ult.eve == 'entrada':\n",
    "            h.extract_min()\n",
    "            p = Persona(ult.time + np.random.exponential(ts), 'salida')\n",
    "            acum_tiempo_en_sistema += p.time - ult.time\n",
    "            h.insert(p)\n",
    "        if type(ult) != int and nclientes < maxclientes:\n",
    "            p = Persona(ahora + np.random.exponential(ta), 'entrada')\n",
    "            nclientes+=1\n",
    "            largo_cola += 1 \n",
    "            h.insert(p)\n",
    "            ahora = p.time\n",
    "            if debug:\n",
    "                bitacora.append(\"T=\"+ str(ahora) + \" => LLEGADA, \" + 'Largo de cola=' + str(largo_cola))      \n",
    "        acum_largo_cola += largo_cola\n",
    "            \n",
    "    return (acum_largo_cola/maxclientes,acum_tiempo_en_sistema/maxclientes,bitacora)"
   ]
  },
  {
   "cell_type": "code",
   "execution_count": 15,
   "metadata": {},
   "outputs": [
    {
     "name": "stdout",
     "output_type": "stream",
     "text": [
      "Largo promedio de la cola= 2.3  Tiempo promedio en el sistema= 85.93828845920461\n"
     ]
    }
   ],
   "source": [
    "(cola,demora,bitacora)=simula(10,100,75,debug=True)\n",
    "print(\"Largo promedio de la cola=\",cola,\" Tiempo promedio en el sistema=\",demora)"
   ]
  },
  {
   "cell_type": "code",
   "execution_count": 16,
   "metadata": {},
   "outputs": [
    {
     "name": "stdout",
     "output_type": "stream",
     "text": [
      "T=21.25986576184801 => LLEGADA, Largo de cola=1\n",
      "T=78.83677538497456 => LLEGADA, Largo de cola=2\n",
      "T=230.23855294286716 => LLEGADA, Largo de cola=3\n",
      "T=194.245760969489 => SALIDA, Largo de cola=2\n",
      "T=94.24603167524747 => SALIDA, Largo de cola=1\n",
      "T=262.5990858090567 => LLEGADA, Largo de cola=2\n",
      "T=254.10869648213688 => SALIDA, Largo de cola=1\n",
      "T=579.9399980224337 => LLEGADA, Largo de cola=2\n",
      "T=384.01230245195933 => SALIDA, Largo de cola=1\n",
      "T=624.2282369781022 => LLEGADA, Largo de cola=2\n",
      "T=739.2597305574725 => LLEGADA, Largo de cola=3\n",
      "T=736.4597924738038 => SALIDA, Largo de cola=2\n",
      "T=676.3636930872223 => SALIDA, Largo de cola=1\n",
      "T=785.503086788047 => LLEGADA, Largo de cola=2\n",
      "T=855.4363469391337 => LLEGADA, Largo de cola=3\n",
      "T=847.2808012041539 => SALIDA, Largo de cola=2\n",
      "T=832.8023831803557 => SALIDA, Largo de cola=1\n",
      "T=1003.6405240981396 => LLEGADA, Largo de cola=2\n",
      "T=856.4761554746091 => SALIDA, Largo de cola=1\n",
      "T=1164.329470875144 => SALIDA, Largo de cola=0\n"
     ]
    }
   ],
   "source": [
    "print_list(bitacora)"
   ]
  },
  {
   "cell_type": "markdown",
   "metadata": {
    "colab_type": "text",
    "id": "EiFVF2jZ_I6z"
   },
   "source": [
    "## 2. Introducir un tiempo comprando\n",
    "\n",
    "A continuación, introduciremos un elemento adicional en el modelo. Supondremos que una vez que un cliente llega, en lugar de ponerse a la cola de inmediato, pasa un rato en la tienda comprando, y una vez que termina (después de transcurrido un tiempo aleatorio de duración promedio $t_c$), en ese momento recién se pone a la cola para pagar en la caja.\n",
    "\n",
    "![cola2T5](https://github.com/ppoblete/Tareas-CC3001-2020-1/blob/master/cola2T5.png?raw=1)\n",
    "\n",
    "Observe que, como puede haber muchos clientes en la tienda que aún no terminan de comprar, en la lista de eventos futuros ahora puede haber muchos eventos de un nuevo tipo (FINCOMPRA), lo que justifica el haber introducido la cola de prioridad.\n",
    "\n",
    "Ejecutamos el programa en modo ``debug`` agregando un parámetro $t_c=300$ e imprimimos el largo promedio de la cola, la demora total promedio de los clientes y la bitácora."
   ]
  },
  {
   "cell_type": "markdown",
   "metadata": {},
   "source": [
    "Para esta implementación no se requiere un cambio en el Heap ni la clase Persona, solo una pequeña modificacion en simula, agregando una variable de entrada tc correpondiente al promedio de tiempo en comprar, entonces cuando se le asigna una tiempo de entrada a cierta persona, luego se le debe asignar un tiempo de compra y luego un tiempo de salida, agragando un if y una sección a a bitácora commo se aprecia a continuación."
   ]
  },
  {
   "cell_type": "code",
   "execution_count": 11,
   "metadata": {},
   "outputs": [],
   "source": [
    "import numpy as np\n",
    "def print_list(L):\n",
    "    for x in L:\n",
    "        print(x)\n",
    "        \n",
    "class Persona:\n",
    "    def __init__(self, time, eve):\n",
    "        self.time=time\n",
    "        self.eve=eve\n",
    "\n",
    "\n",
    "def trepar(a,j): # El elemento a[j] trepa hasta su nivel de prioridad \n",
    "    while j>=1 and a[j].time > a[(j-1)//2].time:\n",
    "        (a[j], a[(j-1)//2]) = (a[(j-1)//2], a[j]) # intercambiamos con el padre\n",
    "        j=(j-1)//2 # subimos al lugar del padre\n",
    "\n",
    "def hundir(a,j,n): # El elemento a[j] se hunde hasta su nivel de prioridad\n",
    "    while 2*j+1<n: # mientras tenga al menos 1 hijo\n",
    "        k=2*j+1 # el hijo izquierdo\n",
    "        if k+1<n and a[k+1].time > a[k].time: # el hijo derecho existe y es mayor\n",
    "            k+=1\n",
    "        if a[j].time >= a[k].time: # tiene mejor prioridad que ambos hijos\n",
    "            break\n",
    "        (a[j],a[k])=(a[k],a[j]) # se intercambia con el mayor de los hijos\n",
    "        j=k # bajamos al lugar del mayor de los hijos\n",
    "\n",
    "class Heap:\n",
    "    def __init__(self,maxn=100):\n",
    "        self.a=np.zeros(maxn,dtype='object')\n",
    "        self.n=0\n",
    "    def insert(self,x):\n",
    "        assert self.n<len(self.a)\n",
    "        self.a[self.n]=x    \n",
    "        trepar(self.a,self.n)\n",
    "        self.n+=1       \n",
    "    def extract_max(self):\n",
    "        x=self.a[0] # esta variable lleva el máximo, el casillero 0 queda vacante\n",
    "        self.n-=1   # achicamos el heap\n",
    "        self.a[0]=self.a[self.n] # movemos el elemento sobrante hacia el casillero vacante\n",
    "        hundir(self.a,0,self.n)\n",
    "        return x\n",
    "    def extract_min(self):\n",
    "        self.n -=1\n",
    "    def mostrar_ult(self):\n",
    "        ult = self.a[self.n-1]\n",
    "        return ult\n",
    "\n",
    "def simula(maxclientes,ta,ts,tc,debug=False):\n",
    "    # ta = tiempo promedio entre llegadas (arrivals)\n",
    "    # ts = tiempo promedio de servicio\n",
    "    # tc = tiempo promedio de compra\n",
    "    # maxclientes = número maximo de clientes para la simulacion\n",
    "    # debug = True => genera bitácora y usa secuencia aleatoria reproducible\n",
    "    # retorna (largo promedio de la cola, tiempo promedio en el sistema)\n",
    "    if debug:\n",
    "        np.random.seed(1234)\n",
    "    h=Heap()        # Creamos el Heap, originalmente vacío\n",
    "    p = Persona(np.random.exponential(ta), 'entrada')  #Asignamos un objeto con un tiempo de entrada    \n",
    "    h.insert(p)     # insertamos el objeto en el heap como el primero que entra\n",
    "    nclientes = 1   # número de clientes que han llegado\n",
    "    ahora = p.time  # tiempo simulado, empieza cuando llega la primera persona\n",
    "    largo_cola = 0  # largo actual de la cola\n",
    "    acum_largo_cola = 1      # acumula largo de la cola para sacar promedio al final\n",
    "    acum_tiempo_en_sistema=0 # acumula tiempos en el sistema para sacar promedio al final\n",
    "    bitacora=[]              # En caso que se pida debug\n",
    "    if debug:\n",
    "        bitacora.append(\"T=\"+ str(ahora) + \" => LLEGADA, \" + 'Largo de cola=' + str(largo_cola))\n",
    "    \n",
    "    while largo_cola >= 0:        # mientras hayan persona en la cola\n",
    "        ult = h.mostrar_ult()\n",
    "        while type(ult) != int and ult.eve == 'salida':  \n",
    "            h.extract_min()\n",
    "            largo_cola -= 1\n",
    "            if debug:\n",
    "                bitacora.append(\"T=\"+ str(ult.time) + \" => SALIDA, \" + 'Largo de cola=' + str(largo_cola))\n",
    "            ult = h.mostrar_ult() \n",
    "        if type(ult) != int and ult.eve == 'entrada':\n",
    "            h.extract_min()\n",
    "            p = Persona(ult.time + np.random.exponential(tc), 'cola')\n",
    "            h.insert(p)\n",
    "            largo_cola += 1\n",
    "            acum_tiempo_en_sistema += p.time - ult.time\n",
    "            if debug:\n",
    "                bitacora.append(\"T=\"+ str(p.time) + \" => A LA COLA, \" + 'Largo de cola=' + str(largo_cola))  \n",
    "        if type(ult) != int and ult.eve == 'cola':\n",
    "            h.extract_min()\n",
    "            p = Persona(ult.time + np.random.exponential(ts), 'salida')\n",
    "            acum_tiempo_en_sistema += p.time - ult.time\n",
    "            h.insert(p)\n",
    "        if type(ult) != int and nclientes < maxclientes:\n",
    "            p = Persona(ahora + np.random.exponential(ta), 'entrada')\n",
    "            nclientes+=1\n",
    "            h.insert(p)\n",
    "            ahora = p.time\n",
    "            if debug:\n",
    "                bitacora.append(\"T=\"+ str(ahora) + \" => LLEGADA, \" + 'Largo de cola=' + str(largo_cola))      \n",
    "        acum_largo_cola += largo_cola\n",
    "        \n",
    "        if largo_cola == 0:\n",
    "            return (acum_largo_cola/maxclientes, acum_tiempo_en_sistema/maxclientes, bitacora)"
   ]
  },
  {
   "cell_type": "code",
   "execution_count": 12,
   "metadata": {},
   "outputs": [
    {
     "name": "stdout",
     "output_type": "stream",
     "text": [
      "Largo promedio de la cola= 8.8  Tiempo promedio en el sistema= 361.99239759717227\n"
     ]
    }
   ],
   "source": [
    "(cola,demora,bitacora)=simula(10,100,75,300,debug=True)\n",
    "print(\"Largo promedio de la cola=\",cola,\" Tiempo promedio en el sistema=\",demora)"
   ]
  },
  {
   "cell_type": "code",
   "execution_count": 13,
   "metadata": {},
   "outputs": [
    {
     "name": "stdout",
     "output_type": "stream",
     "text": [
      "T=21.25986576184801 => LLEGADA, Largo de cola=0\n",
      "T=313.20452941544585 => A LA COLA, Largo de cola=1\n",
      "T=78.83677538497456 => LLEGADA, Largo de cola=1\n",
      "T=540.4727177230324 => A LA COLA, Largo de cola=2\n",
      "T=230.23855294286716 => LLEGADA, Largo de cola=2\n",
      "T=325.719127099946 => A LA COLA, Largo de cola=3\n",
      "T=262.5990858090567 => LLEGADA, Largo de cola=3\n",
      "T=748.2519523806671 => A LA COLA, Largo de cola=4\n",
      "T=579.9399980224337 => LLEGADA, Largo de cola=4\n",
      "T=624.2282369781022 => LLEGADA, Largo de cola=4\n",
      "T=739.2597305574725 => LLEGADA, Largo de cola=4\n",
      "T=998.3988474696353 => A LA COLA, Largo de cola=5\n",
      "T=785.503086788047 => LLEGADA, Largo de cola=5\n",
      "T=855.4363469391337 => LLEGADA, Largo de cola=5\n",
      "T=696.9925121744025 => SALIDA, Largo de cola=4\n",
      "T=374.9822438315528 => SALIDA, Largo de cola=3\n",
      "T=743.4189646993739 => A LA COLA, Largo de cola=4\n",
      "T=1003.6405240981396 => LLEGADA, Largo de cola=4\n",
      "T=1428.2588738960642 => A LA COLA, Largo de cola=5\n",
      "T=991.6215699279084 => A LA COLA, Largo de cola=6\n",
      "T=1141.6916868470114 => A LA COLA, Largo de cola=7\n",
      "T=1004.2768809363126 => SALIDA, Largo de cola=6\n",
      "T=827.2845110663741 => SALIDA, Largo de cola=5\n",
      "T=377.854583209066 => SALIDA, Largo de cola=4\n",
      "T=731.7922245704366 => A LA COLA, Largo de cola=5\n",
      "T=848.3886510140928 => SALIDA, Largo de cola=4\n",
      "T=1063.287183133392 => SALIDA, Largo de cola=3\n",
      "T=946.3056589473059 => SALIDA, Largo de cola=2\n",
      "T=1170.2682250919554 => SALIDA, Largo de cola=1\n",
      "T=1491.2257298493446 => SALIDA, Largo de cola=0\n"
     ]
    }
   ],
   "source": [
    "print_list(bitacora)"
   ]
  },
  {
   "cell_type": "markdown",
   "metadata": {},
   "source": [
    "Como se observa en el programa panteado, la implementación de la cola de prioridad acota el código, reduciendo la cantidad de variables guardadas y permite agregarle, sin gran esfuerzo, nuevas características lo cual habla de la eficiencia de la implementación."
   ]
  }
 ],
 "metadata": {
  "colab": {
   "name": "Copy of Tarea5.ipynb",
   "provenance": []
  },
  "kernelspec": {
   "display_name": "Python 3",
   "language": "python",
   "name": "python3"
  },
  "language_info": {
   "codemirror_mode": {
    "name": "ipython",
    "version": 3
   },
   "file_extension": ".py",
   "mimetype": "text/x-python",
   "name": "python",
   "nbconvert_exporter": "python",
   "pygments_lexer": "ipython3",
   "version": "3.7.6"
  }
 },
 "nbformat": 4,
 "nbformat_minor": 1
}
